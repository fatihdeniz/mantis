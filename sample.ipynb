{
 "cells": [
  {
   "cell_type": "markdown",
   "metadata": {},
   "source": [
    "### Import Required Libraries"
   ]
  },
  {
   "cell_type": "code",
   "execution_count": 1,
   "metadata": {},
   "outputs": [],
   "source": [
    "import torch\n",
    "import torch_geometric\n",
    "print('Torch', torch.__version__)\n",
    "print(\"PyTorch Geometric Version:\", torch_geometric.__version__)\n",
    "print(\"CUDA Version:\", torch.version.cuda)\n",
    "torch.cuda.empty_cache()\n",
    "\n",
    "from src import config_jupyter as config # import config_attack for attack scenarios\n",
    "from src import sage_experiment, loader\n",
    "\n",
    "from src.features import feature_labels\n",
    "from src.score import roc, prec_recall, score\n",
    "from utils import gpu_util"
   ]
  },
  {
   "cell_type": "markdown",
   "metadata": {},
   "source": [
    "### Sample Data\n",
    "Sample nodes and edges data can be accessed from the following link:\n",
    "[Sample Data - Google Drive](https://drive.google.com/drive/folders/1rVDY26SO9xUp4DDZLQ7DuhSJ3B9r0wGQ?usp=sharing)\n",
    "\n",
    "- Nodes File: The file containing nodes data (fqdn_apex_nodes.csv).\n",
    "- Edges File: The file containing edges data (fqdn_apex_edges.csv).\n",
    "- Model File: Define where the trained model will be saved (sage.pkl)."
   ]
  },
  {
   "cell_type": "code",
   "execution_count": 2,
   "metadata": {},
   "outputs": [],
   "source": [
    "nodes_file = 'data/fqdn_apex_nodes2.csv'\n",
    "edges_file = 'data/fqdn_apex_edges.csv'\n",
    "model_file = 'models/sample_sage.pkl'"
   ]
  },
  {
   "cell_type": "markdown",
   "metadata": {},
   "source": [
    "### Set Experiment Arguments\n",
    "You can configure the number of layers and specify the GPU ID and also change other parameters as shown in the example below:"
   ]
  },
  {
   "cell_type": "code",
   "execution_count": 3,
   "metadata": {},
   "outputs": [],
   "source": [
    "args = config.parse()\n",
    "args.num_layers = 3\n",
    "args.dim = 256\n",
    "args.epoch = 100\n",
    "args.gpu_id = gpu_util.pick_gpu_lowest_memory()"
   ]
  },
  {
   "cell_type": "code",
   "execution_count": 4,
   "metadata": {},
   "outputs": [
    {
     "data": {
      "text/plain": [
       "Namespace(model_type='sage', epoch=100, num_layers=3, num_features=62, dim=256, fanout=[-1, 25, 10], outer_batch_size=500, inner_batch_size=40, train_percentage=0.8, seed=42, identifier='None', experiment_id=0, gpu_id=3, edge_type=[0, 1, 2], extra='s1', lstm=False, weighted=False, hetero=False, use_syn=False, syn_file=None, syn_labels=None, balance_labels=False, labelfeature_names=['feat_label_ben', 'feat_label_mal', 'feat_label_unknown'], label_source=['popular', 'alexa', 'tranco', 'umbrella', 'edugov', 'benign4', 'vt_seed5_3months', 'vt_active5_3months', 'vt_active5_12months', 'vt_seed5_12months', 'vt_mixed'], popularity_lists=['alexa', 'tranco', 'umbrella', 'crux'], lr=0.01, weight_decay=0.0005, model_file=None, balance_label_source='benign4', nodes_file=None, edges_file=None, epsilon=0.8)"
      ]
     },
     "execution_count": 4,
     "metadata": {},
     "output_type": "execute_result"
    }
   ],
   "source": [
    "args"
   ]
  },
  {
   "cell_type": "markdown",
   "metadata": {},
   "source": [
    "### Load Data and Train Model\n",
    "Use the loader to load the nodes and edges data.\n",
    "You can initiate the training process using the SAGE_Experiment class.\n",
    "Use loader_hetero and sage_hetero for running experiments with heterogeneous graphs."
   ]
  },
  {
   "cell_type": "code",
   "execution_count": 5,
   "metadata": {},
   "outputs": [
    {
     "name": "stdout",
     "output_type": "stream",
     "text": [
      "Label == 0: 12152\n",
      "Label == 1: 10494\n",
      "Train tensor(18116) Test tensor(4530)\n",
      "Data converted to undirected: True\n",
      "Data(x=[932721, 62], edge_index=[2, 5173716], y=[932721], num_nodes=932721, n_id=[932721], train_mask=[932721], test_mask=[932721], validation_mask=[932721], domain_mask=[932721], popular_ip_mask=[932721], edge_weight=[5173716], edge_type=[5173716])\n"
     ]
    },
    {
     "name": "stderr",
     "output_type": "stream",
     "text": [
      "Epoch: 090, Loss 0.0151, Train: 0.9829, Val: 0.9760: 100%|██████████| 100/100 [30:44<00:00, 18.44s/it]\n"
     ]
    }
   ],
   "source": [
    "data_loader = loader.Loader(nodes_file, edges_file, feature_labels, args)\n",
    "experiment = sage_experiment.SAGE_Experiment(data_loader.data, args)\n",
    "model = experiment.train()\n",
    "torch.save(model.state_dict(), model_file)"
   ]
  },
  {
   "cell_type": "code",
   "execution_count": null,
   "metadata": {},
   "outputs": [],
   "source": []
  },
  {
   "cell_type": "code",
   "execution_count": null,
   "metadata": {},
   "outputs": [],
   "source": []
  }
 ],
 "metadata": {
  "kernelspec": {
   "display_name": "fatih",
   "language": "python",
   "name": "python3"
  },
  "language_info": {
   "codemirror_mode": {
    "name": "ipython",
    "version": 3
   },
   "file_extension": ".py",
   "mimetype": "text/x-python",
   "name": "python",
   "nbconvert_exporter": "python",
   "pygments_lexer": "ipython3",
   "version": "3.11.4"
  }
 },
 "nbformat": 4,
 "nbformat_minor": 4
}
