{
 "cells": [
  {
   "cell_type": "markdown",
   "metadata": {},
   "source": [
    "### Import Required Libraries"
   ]
  },
  {
   "cell_type": "code",
   "execution_count": null,
   "metadata": {},
   "outputs": [],
   "source": [
    "import pandas as pd\n",
    "import importlib as imp\n",
    "import torch\n",
    "\n",
    "from src import config_jupyter as config # import config_attack for attack scenarios\n",
    "from src import sage_experiment, loader\n",
    "\n",
    "from src.features import feature_labels\n",
    "from src.score import roc, prec_recall, score\n"
   ]
  },
  {
   "cell_type": "markdown",
   "metadata": {},
   "source": [
    "### Sample Data\n",
    "Sample nodes and edges data can be accessed from the following link:\n",
    "[Sample Data - Google Drive](https://drive.google.com/drive/folders/1rVDY26SO9xUp4DDZLQ7DuhSJ3B9r0wGQ?usp=sharing)\n",
    "\n",
    "- Nodes File: The file containing nodes data (fqdn_apex_nodes.csv).\n",
    "- Edges File: The file containing edges data (fqdn_apex_edges.csv).\n",
    "- Model File: Define where the trained model will be saved (sage.pkl)."
   ]
  },
  {
   "cell_type": "code",
   "execution_count": null,
   "metadata": {},
   "outputs": [],
   "source": [
    "nodes_file = 'data/fqdn_apex_nodes2.csv'\n",
    "edges_file = 'data/fqdn_apex_edges.csv'\n",
    "model_file = 'models/sample_sage.pkl'"
   ]
  },
  {
   "cell_type": "markdown",
   "metadata": {},
   "source": [
    "### Set Experiment Arguments\n",
    "You can configure the number of layers and specify the GPU ID and also change other parameters as shown in the example below:"
   ]
  },
  {
   "cell_type": "code",
   "execution_count": 6,
   "metadata": {},
   "outputs": [],
   "source": [
    "args = config.parse()\n",
    "args.num_layers = 3\n",
    "args.dim = 256\n",
    "args.epoch = 100\n",
    "args.gpu_id = 5"
   ]
  },
  {
   "cell_type": "markdown",
   "metadata": {},
   "source": [
    "### Load Data and Train Model\n",
    "Use the loader to load the nodes and edges data.\n",
    "You can initiate the training process using the SAGE_Experiment class.\n",
    "Use loader_hetero and sage_hetero for running experiments with heterogeneous graphs."
   ]
  },
  {
   "cell_type": "code",
   "execution_count": null,
   "metadata": {},
   "outputs": [
    {
     "name": "stdout",
     "output_type": "stream",
     "text": [
      "Label == 0: 12152\n",
      "Label == 1: 10494\n",
      "Train tensor(18116) Test tensor(4530)\n",
      "Data converted to undirected: True\n",
      "Data(x=[932721, 62], edge_index=[2, 5173716], y=[932721], train_mask=[932721], test_mask=[932721], validation_mask=[932721], edge_weight=[5173716])\n"
     ]
    },
    {
     "name": "stderr",
     "output_type": "stream",
     "text": [
      "Epoch: 020, Loss 0.0495, Train: 0.9489, Val: 0.9468:  23%|██▎       | 23/100 [04:10<14:23, 11.22s/it]"
     ]
    }
   ],
   "source": [
    "data_loader = loader.Loader(nodes_file, edges_file, feature_labels, args)\n",
    "experiment = sage_experiment.SAGE_Experiment(data_loader.data, args)\n",
    "model = experiment.train()\n",
    "torch.save(model.state_dict(), model_file)"
   ]
  },
  {
   "cell_type": "code",
   "execution_count": null,
   "metadata": {},
   "outputs": [],
   "source": []
  },
  {
   "cell_type": "code",
   "execution_count": null,
   "metadata": {},
   "outputs": [],
   "source": []
  }
 ],
 "metadata": {
  "kernelspec": {
   "display_name": "Python [conda env:fatih]",
   "language": "python",
   "name": "conda-env-fatih-py"
  },
  "language_info": {
   "codemirror_mode": {
    "name": "ipython",
    "version": 3
   },
   "file_extension": ".py",
   "mimetype": "text/x-python",
   "name": "python",
   "nbconvert_exporter": "python",
   "pygments_lexer": "ipython3",
   "version": "3.11.4"
  }
 },
 "nbformat": 4,
 "nbformat_minor": 4
}
