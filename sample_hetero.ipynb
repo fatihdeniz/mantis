{
 "cells": [
  {
   "cell_type": "markdown",
   "metadata": {},
   "source": [
    "### Import Required Libraries"
   ]
  },
  {
   "cell_type": "code",
   "execution_count": 1,
   "metadata": {},
   "outputs": [],
   "source": [
    "import torch\n",
    "import torch_geometric\n",
    "print('Torch', torch.__version__)\n",
    "print(\"PyTorch Geometric Version:\", torch_geometric.__version__)\n",
    "print(\"CUDA Version:\", torch.version.cuda)\n",
    "torch.cuda.empty_cache()\n",
    "\n",
    "from src import config_jupyter as config # import config/config_attack for script/attack scenarios\n",
    "from src import sage_hetero, loader_hetero\n",
    "\n",
    "from src.features import hetero_features\n",
    "from src.score import roc, prec_recall, score\n",
    "from utils import gpu_util"
   ]
  },
  {
   "cell_type": "markdown",
   "metadata": {},
   "source": [
    "### Sample Data\n",
    "Sample nodes and edges data can be accessed from the following link:\n",
    "[Sample Data - Google Drive](https://drive.google.com/drive/folders/1rVDY26SO9xUp4DDZLQ7DuhSJ3B9r0wGQ?usp=sharing)\n",
    "\n",
    "- Nodes File: The file containing nodes data (fqdn_apex_nodes.csv).\n",
    "- Edges File: The file containing edges data (fqdn_apex_edges.csv).\n",
    "- Model File: Define where the trained model will be saved (sage.pkl)."
   ]
  },
  {
   "cell_type": "code",
   "execution_count": 2,
   "metadata": {},
   "outputs": [],
   "source": [
    "nodes_file = 'data/fqdn_apex_nodes_hetero.csv'\n",
    "edges_file = 'data/fqdn_apex_edges_hetero.csv'\n",
    "\n",
    "model_file = 'models/sample_sage_hetero.pkl'"
   ]
  },
  {
   "cell_type": "markdown",
   "metadata": {},
   "source": [
    "### Set Experiment Arguments\n",
    "You can configure the number of layers and specify the GPU ID and also change other parameters as shown in the example below:"
   ]
  },
  {
   "cell_type": "code",
   "execution_count": 4,
   "metadata": {},
   "outputs": [
    {
     "data": {
      "text/plain": [
       "Namespace(model_type='sage', epoch=100, num_layers=3, num_features=62, dim=256, fanout=[-1, 25, 10], outer_batch_size=500, inner_batch_size=40, train_percentage=0.8, seed=42, identifier='None', experiment_id=0, gpu_id=6, edge_type=[0, 1, 2], extra='s1', lstm=False, weighted=False, hetero=True, use_syn=False, syn_file=None, syn_labels=None, balance_labels=False, labelfeature_names=['feat_label_ben', 'feat_label_mal', 'feat_label_unknown'], label_source=['popular', 'alexa', 'tranco', 'umbrella', 'edugov', 'benign4', 'vt_seed5_3months', 'vt_active5_3months', 'vt_active5_12months', 'vt_seed5_12months', 'vt_mixed'], popularity_lists=['alexa', 'tranco', 'umbrella', 'crux'], lr=0.01, weight_decay=0.0005, model_file=None, balance_label_source='benign4', nodes_file=None, edges_file=None, epsilon=0.8)"
      ]
     },
     "execution_count": 4,
     "metadata": {},
     "output_type": "execute_result"
    }
   ],
   "source": [
    "args = config.parse()\n",
    "args.hetero = True\n",
    "args.num_layers = 3\n",
    "args.dim = 256\n",
    "args.epoch = 800\n",
    "args.gpu_id = gpu_util.pick_gpu_lowest_memory()\n",
    "\n",
    "args"
   ]
  },
  {
   "cell_type": "markdown",
   "metadata": {},
   "source": [
    "### Load Data and Train Model\n",
    "Use the loader to load the nodes and edges data.\n",
    "You can initiate the training process using the SAGE_Experiment class.\n",
    "Use loader_hetero and sage_hetero for running experiments with heterogeneous graphs."
   ]
  },
  {
   "cell_type": "code",
   "execution_count": 5,
   "metadata": {
    "tags": []
   },
   "outputs": [
    {
     "name": "stdout",
     "output_type": "stream",
     "text": [
      "Label == 0: 12152\n",
      "Label == 1: 10494\n",
      "Train tensor(18116) Test tensor(4530)\n",
      "Data converted to undirected: True\n"
     ]
    },
    {
     "name": "stderr",
     "output_type": "stream",
     "text": [
      "Epoch: 090, Loss: 0.1605, Train: 0.9742, Test: 0.9661: 100%|██████████| 100/100 [05:29<00:00,  3.29s/it]\n"
     ]
    }
   ],
   "source": [
    "data_loader = loader_hetero.HeteroLoader(nodes_file, edges_file, hetero_features, args)\n",
    "experiment = sage_hetero.Sage_Hetero(data_loader.data, args)\n",
    "\n",
    "model = experiment.train()\n",
    "torch.save(model.state_dict(), model_file)"
   ]
  }
 ],
 "metadata": {
  "kernelspec": {
   "display_name": "Domain Squat",
   "language": "python",
   "name": "domain_squat"
  },
  "language_info": {
   "codemirror_mode": {
    "name": "ipython",
    "version": 3
   },
   "file_extension": ".py",
   "mimetype": "text/x-python",
   "name": "python",
   "nbconvert_exporter": "python",
   "pygments_lexer": "ipython3",
   "version": "3.8.18"
  }
 },
 "nbformat": 4,
 "nbformat_minor": 4
}
